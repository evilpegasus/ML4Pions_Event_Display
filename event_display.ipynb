{
 "cells": [
  {
   "cell_type": "code",
   "execution_count": 2,
   "id": "brilliant-methodology",
   "metadata": {},
   "outputs": [],
   "source": [
    "import uproot\n",
    "import matplotlib.pyplot as plt\n",
    "import numpy as np"
   ]
  },
  {
   "cell_type": "code",
   "execution_count": 240,
   "id": "joint-stuff",
   "metadata": {},
   "outputs": [],
   "source": [
    "#f = uproot.open('user.angerami.24409109.OutputStream._000501.root')\n",
    "f = uproot.open('mltree.pool.root')"
   ]
  },
  {
   "cell_type": "code",
   "execution_count": 241,
   "id": "stuffed-organic",
   "metadata": {},
   "outputs": [
    {
     "name": "stdout",
     "output_type": "stream",
     "text": [
      "The autoreload extension is already loaded. To reload it, use:\n",
      "  %reload_ext autoreload\n"
     ]
    }
   ],
   "source": [
    "%load_ext autoreload\n",
    "%autoreload 2"
   ]
  },
  {
   "cell_type": "code",
   "execution_count": 303,
   "id": "alternate-fountain",
   "metadata": {},
   "outputs": [],
   "source": [
    "import geometry_utils as gutils\n",
    "import event_utils as eutils"
   ]
  },
  {
   "cell_type": "code",
   "execution_count": 304,
   "id": "associate-probability",
   "metadata": {},
   "outputs": [
    {
     "data": {
      "text/plain": [
       "['EventTree;1', 'CellGeo;1']"
      ]
     },
     "execution_count": 304,
     "metadata": {},
     "output_type": "execute_result"
    }
   ],
   "source": [
    "f.keys()"
   ]
  },
  {
   "cell_type": "code",
   "execution_count": 305,
   "id": "traditional-mauritius",
   "metadata": {},
   "outputs": [],
   "source": [
    "tree = f['EventTree']"
   ]
  },
  {
   "cell_type": "code",
   "execution_count": 306,
   "id": "based-configuration",
   "metadata": {},
   "outputs": [
    {
     "data": {
      "text/plain": [
       "10"
      ]
     },
     "execution_count": 306,
     "metadata": {},
     "output_type": "execute_result"
    }
   ],
   "source": [
    "tree.num_entries"
   ]
  },
  {
   "cell_type": "code",
   "execution_count": 307,
   "id": "induced-canada",
   "metadata": {},
   "outputs": [],
   "source": [
    "CellGeo = f['CellGeo']"
   ]
  },
  {
   "cell_type": "code",
   "execution_count": 308,
   "id": "young-reproduction",
   "metadata": {},
   "outputs": [
    {
     "data": {
      "text/plain": [
       "['cell_geo_ID',\n",
       " 'cell_geo_sampling',\n",
       " 'cell_geo_eta',\n",
       " 'cell_geo_phi',\n",
       " 'cell_geo_rPerp',\n",
       " 'cell_geo_deta',\n",
       " 'cell_geo_dphi',\n",
       " 'cell_geo_volume',\n",
       " 'cell_geo_sigma']"
      ]
     },
     "execution_count": 308,
     "metadata": {},
     "output_type": "execute_result"
    }
   ],
   "source": [
    "CellGeo.keys()"
   ]
  },
  {
   "cell_type": "code",
   "execution_count": 309,
   "id": "handed-jesus",
   "metadata": {},
   "outputs": [],
   "source": [
    "cell_positions,id_to_position = gutils.get_all_cells(CellGeo)"
   ]
  },
  {
   "cell_type": "code",
   "execution_count": 310,
   "id": "fiscal-caution",
   "metadata": {},
   "outputs": [],
   "source": [
    "all_cells_E = np.concatenate([np.concatenate( x ) for x in tree['cluster_cell_E'].array(library='np') if len(x) > 0])"
   ]
  },
  {
   "cell_type": "code",
   "execution_count": 311,
   "id": "remarkable-final",
   "metadata": {},
   "outputs": [
    {
     "data": {
      "text/plain": [
       "(0.0050299526, 323.19437, 1.463914, 11.869662)"
      ]
     },
     "execution_count": 311,
     "metadata": {},
     "output_type": "execute_result"
    }
   ],
   "source": [
    "np.amin(all_cells_E), np.amax(all_cells_E), np.mean(all_cells_E),np.std(all_cells_E)"
   ]
  },
  {
   "cell_type": "code",
   "execution_count": 312,
   "id": "technical-binding",
   "metadata": {},
   "outputs": [
    {
     "data": {
      "image/png": "[encoded data removed]",
      "text/plain": [
       "<Figure size 432x288 with 1 Axes>"
      ]
     },
     "metadata": {
      "needs_background": "light"
     },
     "output_type": "display_data"
    }
   ],
   "source": [
    "plt.hist(np.log(all_cells_E),bins=50)\n",
    "plt.show()"
   ]
  },
  {
   "cell_type": "code",
   "execution_count": 313,
   "id": "protective-twins",
   "metadata": {},
   "outputs": [],
   "source": [
    "min_e,max_e = -5,6"
   ]
  },
  {
   "cell_type": "code",
   "execution_count": 314,
   "id": "twenty-generation",
   "metadata": {},
   "outputs": [],
   "source": [
    "event_idx = 0"
   ]
  },
  {
   "cell_type": "code",
   "execution_count": 315,
   "id": "resistant-pitch",
   "metadata": {},
   "outputs": [],
   "source": [
    "cell_idx,cell_E = eutils.get_event_cells(tree,event_idx)"
   ]
  },
  {
   "cell_type": "code",
   "execution_count": 316,
   "id": "english-negotiation",
   "metadata": {},
   "outputs": [],
   "source": [
    "cluster_cell_pos = np.array([id_to_position[x] for x in cell_idx])"
   ]
  },
  {
   "cell_type": "code",
   "execution_count": 317,
   "id": "continuous-dinner",
   "metadata": {},
   "outputs": [],
   "source": [
    "colormap = k3d.colormaps.basic_color_maps.CoolWarm\n",
    "cell_colors = k3d.helpers.map_colors(np.log(cell_E),colormap,[min_e,max_e])\n",
    "cell_colors = cell_colors.astype(np.int32)"
   ]
  },
  {
   "cell_type": "code",
   "execution_count": 318,
   "id": "cooperative-rates",
   "metadata": {},
   "outputs": [],
   "source": [
    "import k3d"
   ]
  },
  {
   "cell_type": "code",
   "execution_count": 327,
   "id": "plain-doubt",
   "metadata": {},
   "outputs": [],
   "source": [
    "\n",
    "d0,z0,theta,phi0,qoverp = eutils.get_track_parameters(tree,event_idx,0,q=1)\n",
    "traj = eutils.get_track_traj(d0,z0,theta,phi0,qoverp)"
   ]
  },
  {
   "cell_type": "code",
   "execution_count": 328,
   "id": "threaded-projector",
   "metadata": {},
   "outputs": [
    {
     "data": {
      "application/vnd.jupyter.widget-view+json": {
       "model_id": "814533ce7b934a1ba4bc0999de773f5c",
       "version_major": 2,
       "version_minor": 0
      },
      "text/plain": [
       "Output()"
      ]
     },
     "metadata": {},
     "output_type": "display_data"
    }
   ],
   "source": [
    "plot = k3d.plot(name='cellgeo')\n",
    "\n",
    "point_size = 15\n",
    "plt_points = k3d.points(positions=cell_positions.astype(np.float32), point_size=point_size,color=0xff,opacity=0.1)\n",
    "plot += plt_points\n",
    "plt_points.shader='3d'\n",
    "\n",
    "\n",
    "cell_p = k3d.points(positions=cluster_cell_pos,point_size=50,\n",
    "                        colors=cell_colors.astype(np.int32))\n",
    "cell_p.shader='3d'\n",
    "plot += cell_p\n",
    "\n",
    "plt_line = k3d.line(traj,shader='3d',color=0xff0000,width=0.2)\n",
    "plot+=plt_line\n",
    "    \n",
    "plot.display()"
   ]
  },
  {
   "cell_type": "code",
   "execution_count": null,
   "id": "obvious-dealer",
   "metadata": {},
   "outputs": [],
   "source": []
  }
 ],
 "metadata": {
  "kernelspec": {
   "display_name": "Python 3.8.2 64-bit ('main': conda)",
   "language": "python",
   "name": "python38264bitmainconda496cadcf43ce49cd8fcdfb395c00155f"
  },
  "language_info": {
   "codemirror_mode": {
    "name": "ipython",
    "version": 3
   },
   "file_extension": ".py",
   "mimetype": "text/x-python",
   "name": "python",
   "nbconvert_exporter": "python",
   "pygments_lexer": "ipython3",
   "version": "3.8.6"
  }
 },
 "nbformat": 4,
 "nbformat_minor": 5
}
